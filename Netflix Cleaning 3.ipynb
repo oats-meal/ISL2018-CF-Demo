{
 "cells": [
  {
   "cell_type": "code",
   "execution_count": null,
   "metadata": {
    "collapsed": true
   },
   "outputs": [],
   "source": [
    "import pandas as pd\n",
    "import numpy as np\n",
    "from scipy.sparse import csr_matrix\n",
    "\n",
    "## These libraries are not used\n",
    "\n",
    "# import matplotlib.pyplot as plt\n",
    "# %matplotlib inline"
   ]
  },
  {
   "cell_type": "code",
   "execution_count": null,
   "metadata": {},
   "outputs": [],
   "source": [
    "df = pd.read_csv(\"AllRatingsCleaned.csv\")\n",
    "print(df.shape)\n",
    "df.sample(5)"
   ]
  },
  {
   "cell_type": "code",
   "execution_count": null,
   "metadata": {
    "collapsed": true
   },
   "outputs": [],
   "source": [
    "## We use this function to round floating numbers to integers \n",
    "## To whatever number place we desire\n",
    "def roundUpToMultiple(number, multiple):\n",
    "    num = number + (multiple - 1)\n",
    "    return int(num - (num % multiple))"
   ]
  },
  {
   "cell_type": "code",
   "execution_count": null,
   "metadata": {
    "collapsed": true
   },
   "outputs": [],
   "source": [
    "## Need to significantly reduce data for processing purposes.\n",
    "\n",
    "## In normal circumstances one would not normally reduce data\n",
    "## Due to limited processing power on the researchers' computer\n",
    "## This is needed\n",
    "## So we will only be using the manufacturers/suppliers\n",
    "## That have been rated the most\n",
    "\n",
    "## Find the 99% Quantile\n",
    "quant = .99\n",
    "## And round this quantile to the nearest 100\n",
    "roundLimit = 100"
   ]
  },
  {
   "cell_type": "code",
   "execution_count": null,
   "metadata": {
    "collapsed": true
   },
   "outputs": [],
   "source": [
    "print(\"Original Number of Unique Manufacturers\")\n",
    "print(df['Manufacturer_ID'].nunique())"
   ]
  },
  {
   "cell_type": "code",
   "execution_count": null,
   "metadata": {},
   "outputs": [],
   "source": [
    "## This is the cutoff limit for manufacturers\n",
    "## We only want manufacturers that appear more than this number of times\n",
    "manuCut = roundUpToMultiple(df.Manufacturer_ID.value_counts().quantile(quant),\n",
    "                            roundLimit)\n",
    "manuCut"
   ]
  },
  {
   "cell_type": "code",
   "execution_count": null,
   "metadata": {
    "collapsed": true
   },
   "outputs": [],
   "source": [
    "print(\"Original Number of Unique Suppliers\")\n",
    "print(df['Supplier_ID'].nunique())"
   ]
  },
  {
   "cell_type": "code",
   "execution_count": null,
   "metadata": {},
   "outputs": [],
   "source": [
    "## This is the cutoff limit for suppliers\n",
    "## We only want suppliers that appear more than this number of times\n",
    "suppCut = roundUpToMultiple(df.Supplier_ID.value_counts().quantile(quant),\n",
    "                            roundLimit)\n",
    "suppCut"
   ]
  },
  {
   "cell_type": "code",
   "execution_count": null,
   "metadata": {
    "collapsed": true,
    "scrolled": true
   },
   "outputs": [],
   "source": [
    "## Create a new dataframe with\n",
    "## Only the manufacturers/suppliers that appear more than our threshhold\n",
    "\n",
    "cutdf = df[(df.Manufacturer_ID.isin(df.Manufacturer_ID.value_counts()[df.Manufacturer_ID.value_counts()>manuCut].index))&\n",
    "   (df.Supplier_ID.isin(df.Supplier_ID.value_counts()[df.Supplier_ID.value_counts()>suppCut].index))]"
   ]
  },
  {
   "cell_type": "code",
   "execution_count": null,
   "metadata": {},
   "outputs": [],
   "source": [
    "cutdf.sample(10)"
   ]
  },
  {
   "cell_type": "code",
   "execution_count": null,
   "metadata": {},
   "outputs": [],
   "source": [
    "print(\"We retain {}% of original data\".format(100*len(cutdf)/len(df)))"
   ]
  },
  {
   "cell_type": "code",
   "execution_count": null,
   "metadata": {},
   "outputs": [],
   "source": [
    "print(\"Total amount of data is {} rows/ratings\".format(len(cutdf)))"
   ]
  },
  {
   "cell_type": "code",
   "execution_count": null,
   "metadata": {
    "collapsed": true
   },
   "outputs": [],
   "source": [
    "print(\"New total Number of Unique Manufacturers\")\n",
    "print(cutdf['Manufacturer_ID'].nunique())"
   ]
  },
  {
   "cell_type": "code",
   "execution_count": null,
   "metadata": {
    "collapsed": true
   },
   "outputs": [],
   "source": [
    "print(\"New Total Number of Unique Suppliers\")\n",
    "print(cutdf['Supplier_ID'].nunique())"
   ]
  },
  {
   "cell_type": "code",
   "execution_count": null,
   "metadata": {
    "collapsed": true
   },
   "outputs": [],
   "source": [
    "## In order to randomly split the data for training/testing purposes\n",
    "## We give each row a 70% chance of being in our training data\n",
    "## And a 30% chance of being in our testing data\n",
    "mask = np.random.rand(len(cutdf)) < 0.7"
   ]
  },
  {
   "cell_type": "code",
   "execution_count": null,
   "metadata": {},
   "outputs": [],
   "source": [
    "## Transform the data into a pivot table and save it\n",
    "## We will show in the next notebook what this looks like\n",
    "\n",
    "## This table is our training matrix\n",
    "pt = pd.pivot_table(cutdf[mask],\n",
    "               values = 'Rating', \n",
    "               index = 'Manufacturer_ID', \n",
    "               columns = 'Supplier_ID')\n",
    "## Save the data as a csv\n",
    "pt.to_csv(\"TrainMatrix.csv\")\n",
    "pt.sample(10)"
   ]
  },
  {
   "cell_type": "code",
   "execution_count": null,
   "metadata": {},
   "outputs": [],
   "source": [
    "## This table is our testing table\n",
    "## In other words, what we will test against\n",
    "tr = cutdf[~mask]\n",
    "## Save the data as a csv\n",
    "tr.to_csv(\"TestValues.csv\",index=False)\n",
    "tr.sample(10)"
   ]
  }
 ],
 "metadata": {
  "kernelspec": {
   "display_name": "Python 3",
   "language": "python",
   "name": "python3"
  },
  "language_info": {
   "codemirror_mode": {
    "name": "ipython",
    "version": 3
   },
   "file_extension": ".py",
   "mimetype": "text/x-python",
   "name": "python",
   "nbconvert_exporter": "python",
   "pygments_lexer": "ipython3",
   "version": "3.6.3"
  }
 },
 "nbformat": 4,
 "nbformat_minor": 2
}
