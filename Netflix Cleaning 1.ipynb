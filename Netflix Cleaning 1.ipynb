{
 "cells": [
  {
   "cell_type": "code",
   "execution_count": null,
   "metadata": {
    "collapsed": true
   },
   "outputs": [],
   "source": [
    "import pandas as pd\n",
    "import numpy as np\n",
    "\n",
    "## These libraries are not used\n",
    "\n",
    "# import math\n",
    "# import re\n",
    "# from scipy.sparse import csr_matrix\n",
    "# import matplotlib.pyplot as plt\n",
    "# import seaborn as sns\n",
    "# %matplotlib inline"
   ]
  },
  {
   "cell_type": "code",
   "execution_count": null,
   "metadata": {
    "collapsed": true
   },
   "outputs": [],
   "source": [
    "## Read in the dataset\n",
    "\n",
    "## We put all the cleaning and transforming into a for loop \n",
    "## so we don't have to retype code\n",
    "for i in range(4):\n",
    "    \n",
    "    ## The file we will be reading in\n",
    "    firstdf = 'combined_data_'+str(i+1)+'.txt'\n",
    "    ## The name we are giving this output file\n",
    "    finaldf = 'CleanedRatings'+str(i+1)+'.csv'\n",
    "\n",
    "    ## Read in the file\n",
    "    df = pd.read_csv(firstdf, \n",
    "                      header = None, \n",
    "                      names = ['Manufacturer_ID', 'Rating'], \n",
    "                      usecols = [0,1])\n",
    "\n",
    "    ## Change the datatype of the rating from strings to floats\n",
    "    df['Rating'] = df['Rating'].astype(float)\n",
    "\n",
    "    ## Create a proper index for the table\n",
    "    df.index = np.arange(0,len(df))\n",
    "\n",
    "    ## We want to know what rating is assigned to what item\n",
    "    ## This is done because of the original formatting of the data\n",
    "\n",
    "    ## Figure out where the rating is null\n",
    "    ## These rows are the rows that tell us what the item is\n",
    "    df['MRow']=df['Rating'].isnull()\n",
    "    \n",
    "    ## Create a new column that will be used for the item ID\n",
    "    ## Right now it is filled with dummy values\n",
    "    df['Supplier_ID'] = df['Manufacturer_ID']\n",
    "    ## For the rows that are not item ID's, make their item ID null\n",
    "    df['Supplier_ID'] = df['Supplier_ID'].mask(df.MRow==False,np.nan)\n",
    "    \n",
    "    ## Fill null itemID's with the last itemID that appeared \n",
    "    ## And rename the values here to better suit our needs\n",
    "    df['Supplier_ID'] = 'S_' + df['Supplier_ID'].fillna(method='ffill').str.strip(\":\").astype(str)\n",
    "\n",
    "    ## Remove all rows that only contain the item ID\n",
    "    df = df[df['MRow'] == False][['Manufacturer_ID',\"Rating\",\"Supplier_ID\"]]\n",
    "\n",
    "    ## Rename values to better suit our needs\n",
    "    df['Manufacturer_ID'] = 'M_' + df['Manufacturer_ID'].astype(str)\n",
    "\n",
    "    ## Drop the unneeded columns\n",
    "    df = df[['Manufacturer_ID',\"Rating\",\"Supplier_ID\"]]\n",
    "\n",
    "    ## Save the dataframe\n",
    "    df.to_csv(finaldf)"
   ]
  },
  {
   "cell_type": "code",
   "execution_count": null,
   "metadata": {},
   "outputs": [],
   "source": [
    "## Here is what the data looks like\n",
    "## In essence, it can be read as\n",
    "## Manufacturer [X] has given Rating [Y] to Supplier [Z]\n",
    "df.sample(10)"
   ]
  }
 ],
 "metadata": {
  "kernelspec": {
   "display_name": "Python 3",
   "language": "python",
   "name": "python3"
  },
  "language_info": {
   "codemirror_mode": {
    "name": "ipython",
    "version": 3
   },
   "file_extension": ".py",
   "mimetype": "text/x-python",
   "name": "python",
   "nbconvert_exporter": "python",
   "pygments_lexer": "ipython3",
   "version": "3.6.3"
  }
 },
 "nbformat": 4,
 "nbformat_minor": 2
}
